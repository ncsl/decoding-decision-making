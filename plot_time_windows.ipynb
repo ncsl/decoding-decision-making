{
 "cells": [
  {
   "cell_type": "code",
   "execution_count": 5,
   "metadata": {},
   "outputs": [],
   "source": [
    "import h5py \n",
    "import mat73\n",
    "import numpy as np\n",
    "import seaborn as sns\n",
    "import pandas as pd\n",
    "import matplotlib.pyplot as plt"
   ]
  },
  {
   "cell_type": "code",
   "execution_count": 9,
   "metadata": {},
   "outputs": [],
   "source": [
    "subs = ['06','07','10','12','13','15','16','17','18','21']\n",
    "time_btwn_show_card_and_movement = []\n",
    "subs_with_area = {}\n",
    "brain_areas_of_interest = {'angular gyrus R':0,\n",
    "                            'cingulate cortex (posterior) R':0, \n",
    "                           'cuneus R':0, \n",
    "                           'fusiform gyrus L':0,\n",
    "                           'hippocampus (anterior) L':0,\n",
    "                           'inferior frontal gyrus (pars triangularis) R':0,\n",
    "                           'insular cortex (anterior) R':0, \n",
    "                           'intraparietal sulcus R':0,\n",
    "                           'middle temporal gyrus L':0, \n",
    "                           'middle temporal gyrus R':0,\n",
    "                           'occipital gyrus L':0, \n",
    "                           'occipital gyrus R':0, \n",
    "                           'parietal operculum L':0,\n",
    "                           'superior temporal sulcus R':0, \n",
    "                           'supramarginal gyrus L':0,\n",
    "                           'supramarginal gyrus R':0}\n",
    "\n",
    "for sub in subs:\n",
    "    ncsl_share = '/mnt/ncsl_share'\n",
    "    setup_path = ncsl_share + f'/Public/EFRI/1_formatted/SUBJECT{sub}/EFRI{sub}_WAR_SES1_Setup.mat'\n",
    "    setup_data = mat73.loadmat(setup_path)\n",
    "\n",
    "    elec_areas = np.array(setup_data['elec_area'])\n",
    "\n",
    "    for area in brain_areas_of_interest.keys():\n",
    "        if area in elec_areas:\n",
    "            brain_areas_of_interest[area] += 1\n",
    "\n",
    "    # if 'cuneus R' in elec_areas:\n",
    "    #     print(sub)\n",
    "\n",
    "    # print(setup_data['trial_times'][0][0])\n",
    "\n",
    "    time_btwn_show_card_and_movement_for_subject = []\n",
    "\n",
    "    for i in range(len(setup_data['trial_times'])):\n",
    "        trial_words = setup_data['trial_words'][i][0]\n",
    "        trial_times = setup_data['trial_times'][i][0]\n",
    "        if 31 in trial_words and 35 in trial_words: \n",
    "            show_card_time = np.where(trial_words == 31)[0]\n",
    "            start_move_time = np.where(trial_words == 35)[0]\n",
    "            time_btwn_show_card_and_movement_for_subject.append(trial_times[start_move_time] - trial_times[show_card_time])\n",
    "\n",
    "    time_btwn_show_card_and_movement.append(np.mean(time_btwn_show_card_and_movement_for_subject))"
   ]
  },
  {
   "cell_type": "code",
   "execution_count": 10,
   "metadata": {},
   "outputs": [
    {
     "data": {
      "text/plain": [
       "{'angular gyrus R': 5,\n",
       " 'cingulate cortex (posterior) R': 6,\n",
       " 'cuneus R': 2,\n",
       " 'fusiform gyrus L': 5,\n",
       " 'hippocampus (anterior) L': 5,\n",
       " 'inferior frontal gyrus (pars triangularis) R': 2,\n",
       " 'insular cortex (anterior) R': 2,\n",
       " 'intraparietal sulcus R': 3,\n",
       " 'middle temporal gyrus L': 6,\n",
       " 'middle temporal gyrus R': 5,\n",
       " 'occipital gyrus L': 3,\n",
       " 'occipital gyrus R': 3,\n",
       " 'parietal operculum L': 3,\n",
       " 'superior temporal sulcus R': 4,\n",
       " 'supramarginal gyrus L': 5,\n",
       " 'supramarginal gyrus R': 3}"
      ]
     },
     "execution_count": 10,
     "metadata": {},
     "output_type": "execute_result"
    }
   ],
   "source": [
    "brain_areas_of_interest"
   ]
  },
  {
   "cell_type": "code",
   "execution_count": 4,
   "metadata": {},
   "outputs": [
    {
     "data": {
      "text/plain": [
       "[3.028191891891895,\n",
       " 3.233858024691354,\n",
       " 3.648013888888874,\n",
       " 3.869632352941167,\n",
       " 3.1138110465116315,\n",
       " 3.5006337579617828,\n",
       " 3.206803030303032,\n",
       " 3.295793749999993,\n",
       " 3.3865844155844154,\n",
       " 3.240692307692313]"
      ]
     },
     "execution_count": 4,
     "metadata": {},
     "output_type": "execute_result"
    }
   ],
   "source": [
    "time_btwn_show_card_and_movement"
   ]
  },
  {
   "cell_type": "code",
   "execution_count": 5,
   "metadata": {},
   "outputs": [
    {
     "data": {
      "text/plain": [
       "(2.5, 4.0)"
      ]
     },
     "execution_count": 5,
     "metadata": {},
     "output_type": "execute_result"
    },
    {
     "data": {
      "image/png": "[encoded data removed]",
      "text/plain": [
       "<Figure size 640x480 with 1 Axes>"
      ]
     },
     "metadata": {},
     "output_type": "display_data"
    }
   ],
   "source": [
    "fig, axs = plt.subplots()\n",
    "sns.barplot(x=np.arange(len(time_btwn_show_card_and_movement)), y=time_btwn_show_card_and_movement, ax=axs, color='turquoise')\n",
    "axs.set_title('Average Time Between Show Card and Movement for Each Subject')\n",
    "axs.set_xlabel('Subject')\n",
    "axs.set_ylabel('Time (s)')\n",
    "axs.set_xticklabels(subs)\n",
    "axs.set_ylim(2.5, 4)"
   ]
  },
  {
   "cell_type": "code",
   "execution_count": null,
   "metadata": {},
   "outputs": [],
   "source": []
  }
 ],
 "metadata": {
  "kernelspec": {
   "display_name": "ncsl",
   "language": "python",
   "name": "python3"
  },
  "language_info": {
   "codemirror_mode": {
    "name": "ipython",
    "version": 3
   },
   "file_extension": ".py",
   "mimetype": "text/x-python",
   "name": "python",
   "nbconvert_exporter": "python",
   "pygments_lexer": "ipython3",
   "version": "3.11.3"
  },
  "orig_nbformat": 4
 },
 "nbformat": 4,
 "nbformat_minor": 2
}
