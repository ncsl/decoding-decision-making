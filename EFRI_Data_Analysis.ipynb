{
 "cells": [
  {
   "cell_type": "markdown",
   "metadata": {},
   "source": [
    "# Introduction\n",
    "\n",
    "This notebook trains a linear discriminant analysis model on preprocessed EEG data to predict behavioral data from neural features.\n",
    "\n",
    "An example of this can be found in the paper, \"Human stereoEEG recordings reveal network dynamics of decision-making in a rule-switching task\" by Wal et al.\n",
    "\n",
    "Behavioral data and preprocessed neural data from Subject 06 in the NCSL EFRI datasetwill be used in this notebook."
   ]
  },
  {
   "cell_type": "markdown",
   "metadata": {},
   "source": [
    "# Setup"
   ]
  },
  {
   "cell_type": "markdown",
   "metadata": {},
   "source": [
    "## Imports"
   ]
  },
  {
   "cell_type": "code",
   "execution_count": 2,
   "metadata": {},
   "outputs": [],
   "source": [
    "import h5py \n",
    "import mat73\n",
    "import numpy as np"
   ]
  },
  {
   "cell_type": "markdown",
   "metadata": {},
   "source": [
    "## Load File Paths"
   ]
  },
  {
   "cell_type": "code",
   "execution_count": 3,
   "metadata": {},
   "outputs": [],
   "source": [
    "# ncsl_share = '/run/user/1000/gvfs/smb-share:server=10.162.37.21,share=main'\n",
    "# data_path = f'Data/Subject06_snapshot_normalized.npy'\n",
    "subs = ['06']\n",
    "file_paths = {}\n",
    "\n",
    "for sub in subs:\n",
    "    # create a dictionary holding the file paths\n",
    "    ncsl_share = '/mnt/ncsl_share'\n",
    "    file_paths[sub] = {\n",
    "        'setup_path': ncsl_share + f'/Public/EFRI/1_formatted/SUBJECT{sub}/EFRI{sub}_WAR_SES1_Setup.mat',\n",
    "        'raw_path': ncsl_share + f'/Public/EFRI/1_formatted/SUBJECT{sub}/EFRI{sub}_WAR_SES1_Raw.mat',\n",
    "        'data_path': ncsl_share + f'/Daniel/Data/Trial_by_Chan_by_Freq_by_Time_Snapshots/Subject{sub}_snapshot_normalized.npy', # movement onset as event\n",
    "        # 'data_path' : ncsl_share + f'/Daniel/Data/Trial_by_Chan_by_Freq_by_Time_Snapshots/show-card_pre-2sec_post-4sec/Subject{sub}_snapshot_normalized.npy', # visual cue as event\n",
    "        'out_path_metrics': f'Metrics/Subject{sub}',\n",
    "        'out_path_plots': f'Plots/Subject{sub}'\n",
    "    }"
   ]
  },
  {
   "cell_type": "code",
   "execution_count": 4,
   "metadata": {},
   "outputs": [],
   "source": [
    "raw_file = h5py.File(file_paths['06']['raw_path'])\n",
    "setup_data = mat73.loadmat(file_paths['06']['setup_path'])\n",
    "\n",
    "out_path_plots = file_paths['06']['out_path_plots']\n",
    "out_path_metrics = file_paths['06']['out_path_metrics']"
   ]
  },
  {
   "cell_type": "code",
   "execution_count": 5,
   "metadata": {},
   "outputs": [
    {
     "data": {
      "text/plain": [
       "dict_keys(['elec_area', 'elec_ind', 'elec_name', 'filters', 'trial_times', 'trial_words'])"
      ]
     },
     "execution_count": 5,
     "metadata": {},
     "output_type": "execute_result"
    }
   ],
   "source": [
    "setup_data.keys()"
   ]
  },
  {
   "cell_type": "markdown",
   "metadata": {},
   "source": [
    "## Instantiate variables"
   ]
  },
  {
   "cell_type": "code",
   "execution_count": 5,
   "metadata": {},
   "outputs": [],
   "source": [
    "bets = setup_data['filters']['bets']\n",
    "\n",
    "good_trials = np.where(np.isnan(bets) == False)[0] # extract indices of trials without the 'nan'\n",
    "\n",
    "bets = bets[good_trials] # get the bet values for the good trials\n",
    "subject_cards = setup_data['filters']['card1'][good_trials] # get the subject's card values for the good trials"
   ]
  },
  {
   "cell_type": "code",
   "execution_count": 6,
   "metadata": {},
   "outputs": [],
   "source": [
    "elec_names = np.array(setup_data['elec_name'])\n",
    "elec_areas = np.array(setup_data['elec_area'])"
   ]
  },
  {
   "cell_type": "code",
   "execution_count": 7,
   "metadata": {},
   "outputs": [],
   "source": [
    "data = np.load(file_paths['06']['data_path'])\n",
    "y = np.asarray([(0 if bet == 5 else 1) for bet in bets]) # 0 = low bet ($5), 1 = high bet ($20)"
   ]
  },
  {
   "cell_type": "markdown",
   "metadata": {},
   "source": [
    "## Matplotlib Settings"
   ]
  },
  {
   "cell_type": "code",
   "execution_count": 8,
   "metadata": {},
   "outputs": [],
   "source": [
    "import matplotlib as mpl\n",
    "mpl.rcParams['axes.titlesize'] = 22\n",
    "mpl.rcParams['axes.labelsize'] = 18\n",
    "mpl.rcParams['xtick.labelsize'] = 18\n",
    "mpl.rcParams['ytick.labelsize'] = 18"
   ]
  },
  {
   "cell_type": "markdown",
   "metadata": {},
   "source": [
    "## Create Frequency Bands"
   ]
  },
  {
   "cell_type": "code",
   "execution_count": 9,
   "metadata": {},
   "outputs": [],
   "source": [
    "wavelet_freqs = np.logspace(np.log2(2),np.log2(150),num=63,base=2)\n",
    "\n",
    "frequency_band_indices ={\n",
    "    \"Delta\" : [i for i,freq in enumerate(wavelet_freqs) if freq >= 0.5 and freq < 4],\n",
    "    \"Theta\" : [i for i,freq in enumerate(wavelet_freqs) if freq >= 4 and freq < 8],\n",
    "    \"Alpha\" : [i for i,freq in enumerate(wavelet_freqs) if freq >= 8 and freq < 14],\n",
    "    \"Beta\" : [i for i,freq in enumerate(wavelet_freqs) if freq >= 14 and freq < 30],\n",
    "    \"Gamma\" : [i for i,freq in enumerate(wavelet_freqs) if freq >= 30]\n",
    "}"
   ]
  },
  {
   "cell_type": "code",
   "execution_count": 10,
   "metadata": {},
   "outputs": [],
   "source": [
    "f_band_data = np.zeros((data.shape[0], data.shape[1], 5, data.shape[3]))\n",
    "\n",
    "for i, key in enumerate(frequency_band_indices):\n",
    "    f_band_data[:,:,i,:] = data[:,:,frequency_band_indices[key],:].mean(2)"
   ]
  },
  {
   "cell_type": "markdown",
   "metadata": {},
   "source": [
    "# Model Training"
   ]
  },
  {
   "cell_type": "markdown",
   "metadata": {},
   "source": [
    "# Analysis"
   ]
  },
  {
   "cell_type": "code",
   "execution_count": 6,
   "metadata": {},
   "outputs": [],
   "source": [
    "def find_common_channels(channel_combinations):\n",
    "    common_channels_dict = {}\n",
    "\n",
    "    for i in range(len(channel_combinations)):\n",
    "        for j in range(len(channel_combinations) - i):\n",
    "            common_channels = []\n",
    "            if i != i+j:\n",
    "                common_channels = list(set(channel_combinations[i]).intersection(channel_combinations[i+j]))\n",
    "                if common_channels != []:\n",
    "                    common_channels_dict[f'sub_{subs[i]}_and_sub_{subs[i+j]}'] = common_channels\n",
    "    \n",
    "    return common_channels_dict"
   ]
  },
  {
   "cell_type": "code",
   "execution_count": 7,
   "metadata": {},
   "outputs": [],
   "source": [
    "def sort_common_brain_areas(common_channels_dict):\n",
    "    brain_areas = []\n",
    "    for areas in common_channels_dict.values():\n",
    "        for area in areas:\n",
    "            brain_areas.append(area)\n",
    "    brain_areas.sort()\n",
    "    return brain_areas"
   ]
  },
  {
   "cell_type": "markdown",
   "metadata": {},
   "source": [
    "### Load channel combinations (movment onset)"
   ]
  },
  {
   "cell_type": "code",
   "execution_count": 16,
   "metadata": {},
   "outputs": [],
   "source": [
    "movement_reg_channel_combinations = []\n",
    "movement_optimal_channel_combinations = []\n",
    "\n",
    "subs = ['06','07','10','12','13','15','16','17','18','21']\n",
    "\n",
    "for sub in subs:\n",
    "    movement_reg_channel_combinations.append(np.load(f'Metrics/Subject{sub}_optimal_time_window_channel_combination.npy'))\n",
    "    movement_optimal_channel_combinations.append(np.load(f'Metrics/Subject{sub}_optimal_time_window_optimal_channel_combination.npy'))"
   ]
  },
  {
   "cell_type": "markdown",
   "metadata": {},
   "source": [
    "### Find common channels in optimal channel combination (movement onset)"
   ]
  },
  {
   "cell_type": "code",
   "execution_count": 8,
   "metadata": {},
   "outputs": [],
   "source": [
    "movement_common_optimal_channels_dict = find_common_channels(movement_optimal_channel_combinations)"
   ]
  },
  {
   "cell_type": "code",
   "execution_count": 33,
   "metadata": {},
   "outputs": [],
   "source": [
    "movement_sorted_common_optimal_brain_areas = sort_common_brain_areas(movement_common_optimal_channels_dict)"
   ]
  },
  {
   "cell_type": "code",
   "execution_count": 36,
   "metadata": {},
   "outputs": [
    {
     "name": "stdout",
     "output_type": "stream",
     "text": [
      "angular gyrus R | Count: 3\n",
      "cingulate cortex (posterior) R | Count: 1\n",
      "fusiform gyrus L | Count: 3\n",
      "inferior temporal gyrus L | Count: 1\n",
      "insular cortex (anterior) R | Count: 1\n",
      "middle temporal gyrus L | Count: 3\n",
      "middle temporal gyrus R | Count: 1\n",
      "occipital gyrus L | Count: 3\n",
      "parietal operculum R | Count: 1\n",
      "parietooccipital sulcus L | Count: 1\n",
      "superior temporal gyrus (planum temporale) L | Count: 1\n",
      "superior temporal gyrus (planum temporale) R | Count: 1\n",
      "superior temporal sulcus R | Count: 1\n",
      "supramarginal gyrus L | Count: 1\n"
     ]
    }
   ],
   "source": [
    "from collections import Counter\n",
    "counter = Counter(movement_sorted_common_optimal_brain_areas)\n",
    "\n",
    "for element, count in counter.items():\n",
    "    print(f'{element} | Count: {count}')"
   ]
  },
  {
   "cell_type": "markdown",
   "metadata": {},
   "source": [
    "### Find common channels in regular channel combination (movement onset)"
   ]
  },
  {
   "cell_type": "code",
   "execution_count": 17,
   "metadata": {},
   "outputs": [],
   "source": [
    "movement_common_reg_channels_dict = find_common_channels(movement_reg_channel_combinations)"
   ]
  },
  {
   "cell_type": "code",
   "execution_count": 11,
   "metadata": {},
   "outputs": [
    {
     "data": {
      "text/plain": [
       "{'sub_06_and_sub_13': ['fusiform gyrus L'],\n",
       " 'sub_06_and_sub_16': ['hippocampus (anterior) L'],\n",
       " 'sub_06_and_sub_17': ['superior temporal gyrus (planum temporale) L',\n",
       "  'fusiform gyrus L'],\n",
       " 'sub_06_and_sub_18': ['inferior temporal gyrus L'],\n",
       " 'sub_06_and_sub_21': ['fusiform gyrus L'],\n",
       " 'sub_07_and_sub_10': ['inferior frontal gyrus (pars orbitalis) R',\n",
       "  'angular gyrus R'],\n",
       " 'sub_07_and_sub_12': ['middle temporal gyrus R',\n",
       "  'inferior frontal gyrus (pars orbitalis) R',\n",
       "  'superior temporal gyrus (planum temporale) R',\n",
       "  'fusiform gyrus R',\n",
       "  'cingulate cortex (posterior) R',\n",
       "  'inferior temporal sulcus R',\n",
       "  'insular cortex (posterior) R',\n",
       "  'inferior temporal gyrus R'],\n",
       " 'sub_07_and_sub_13': ['angular gyrus R'],\n",
       " 'sub_07_and_sub_15': ['supramarginal gyrus R'],\n",
       " 'sub_07_and_sub_16': ['cuneus R',\n",
       "  'middle temporal gyrus R',\n",
       "  'hippocampus (posterior) R',\n",
       "  'superior temporal gyrus (planum temporale) R',\n",
       "  'cingulate cortex (posterior) R',\n",
       "  'angular gyrus R',\n",
       "  'occipital gyrus R',\n",
       "  'inferior temporal sulcus R',\n",
       "  'hippocampus (anterior) R',\n",
       "  'intraparietal sulcus R',\n",
       "  'superior temporal sulcus R'],\n",
       " 'sub_10_and_sub_12': ['inferior frontal gyrus (pars orbitalis) R',\n",
       "  'inferior frontal gyrus (pars opercularis) R',\n",
       "  'insular cortex (anterior) R',\n",
       "  'parietal operculum R'],\n",
       " 'sub_10_and_sub_13': ['angular gyrus R'],\n",
       " 'sub_10_and_sub_16': ['angular gyrus R'],\n",
       " 'sub_12_and_sub_16': ['cingulate cortex (posterior) R',\n",
       "  'middle temporal gyrus R',\n",
       "  'superior temporal gyrus (planum temporale) R',\n",
       "  'inferior temporal sulcus R'],\n",
       " 'sub_13_and_sub_16': ['angular gyrus R', 'middle temporal gyrus L'],\n",
       " 'sub_13_and_sub_17': ['middle temporal gyrus L', 'fusiform gyrus L'],\n",
       " 'sub_13_and_sub_18': ['middle temporal gyrus L'],\n",
       " 'sub_13_and_sub_21': ['middle temporal gyrus L', 'fusiform gyrus L'],\n",
       " 'sub_15_and_sub_18': ['parietooccipital sulcus L'],\n",
       " 'sub_16_and_sub_17': ['middle temporal gyrus L', 'occipital gyrus L'],\n",
       " 'sub_16_and_sub_18': ['middle temporal gyrus L'],\n",
       " 'sub_16_and_sub_21': ['middle temporal gyrus L'],\n",
       " 'sub_17_and_sub_18': ['middle temporal gyrus L'],\n",
       " 'sub_17_and_sub_21': ['middle temporal gyrus L',\n",
       "  'supramarginal gyrus L',\n",
       "  'fusiform gyrus L'],\n",
       " 'sub_18_and_sub_21': ['middle temporal gyrus L']}"
      ]
     },
     "execution_count": 11,
     "metadata": {},
     "output_type": "execute_result"
    }
   ],
   "source": [
    "movement_common_reg_channels_dict"
   ]
  },
  {
   "cell_type": "code",
   "execution_count": 18,
   "metadata": {},
   "outputs": [],
   "source": [
    "movement_sorted_common_reg_brain_areas = sort_common_brain_areas(movement_common_reg_channels_dict)"
   ]
  },
  {
   "cell_type": "code",
   "execution_count": 19,
   "metadata": {},
   "outputs": [
    {
     "name": "stdout",
     "output_type": "stream",
     "text": [
      "angular gyrus R | Count: 6\n",
      "cingulate cortex (posterior) R | Count: 3\n",
      "cuneus R | Count: 1\n",
      "fusiform gyrus L | Count: 6\n",
      "fusiform gyrus R | Count: 1\n",
      "hippocampus (anterior) L | Count: 1\n",
      "hippocampus (anterior) R | Count: 1\n",
      "hippocampus (posterior) R | Count: 1\n",
      "inferior frontal gyrus (pars opercularis) R | Count: 1\n",
      "inferior frontal gyrus (pars orbitalis) R | Count: 3\n",
      "inferior temporal gyrus L | Count: 1\n",
      "inferior temporal gyrus R | Count: 1\n",
      "inferior temporal sulcus R | Count: 3\n",
      "insular cortex (anterior) R | Count: 1\n",
      "insular cortex (posterior) R | Count: 1\n",
      "intraparietal sulcus R | Count: 1\n",
      "middle temporal gyrus L | Count: 10\n",
      "middle temporal gyrus R | Count: 3\n",
      "occipital gyrus L | Count: 1\n",
      "occipital gyrus R | Count: 1\n",
      "parietal operculum R | Count: 1\n",
      "parietooccipital sulcus L | Count: 1\n",
      "superior temporal gyrus (planum temporale) L | Count: 1\n",
      "superior temporal gyrus (planum temporale) R | Count: 3\n",
      "superior temporal sulcus R | Count: 1\n",
      "supramarginal gyrus L | Count: 1\n",
      "supramarginal gyrus R | Count: 1\n"
     ]
    }
   ],
   "source": [
    "counter = Counter(movement_sorted_common_reg_brain_areas)\n",
    "\n",
    "for element, count in counter.items():\n",
    "    print(f'{element} | Count: {count}')"
   ]
  },
  {
   "cell_type": "code",
   "execution_count": 25,
   "metadata": {},
   "outputs": [
    {
     "data": {
      "text/plain": [
       "['middle temporal gyrus R',\n",
       " 'supramarginal gyrus L',\n",
       " 'insular cortex (anterior) R',\n",
       " 'superior temporal sulcus R',\n",
       " 'superior temporal gyrus (planum temporale) L',\n",
       " 'superior temporal gyrus (planum temporale) R',\n",
       " 'parietal operculum R',\n",
       " 'cingulate cortex (posterior) R',\n",
       " 'inferior temporal gyrus L',\n",
       " 'angular gyrus R',\n",
       " 'middle temporal gyrus L',\n",
       " 'fusiform gyrus L',\n",
       " 'occipital gyrus L',\n",
       " 'parietooccipital sulcus L']"
      ]
     },
     "execution_count": 25,
     "metadata": {},
     "output_type": "execute_result"
    }
   ],
   "source": [
    "list(set(movement_sorted_common_optimal_brain_areas).intersection(movement_sorted_common_reg_brain_areas))"
   ]
  },
  {
   "cell_type": "markdown",
   "metadata": {},
   "source": [
    "### Load channel combinations (visual cue)"
   ]
  },
  {
   "cell_type": "code",
   "execution_count": 4,
   "metadata": {},
   "outputs": [],
   "source": [
    "vis_reg_channel_combinations = []\n",
    "vis_optimal_channel_combinations = []\n",
    "\n",
    "subs = ['06','07','10','12','13','15','16','17','18','21']\n",
    "\n",
    "for sub in subs:\n",
    "    vis_reg_channel_combinations.append(np.load(f'Metrics/Subject{sub}_vis_stim_optimal_time_window_channel_combination.npy'))\n",
    "    vis_optimal_channel_combinations.append(np.load(f'Metrics/Subject{sub}_vis_stim_optimal_time_window_optimal_channel_combination.npy'))"
   ]
  },
  {
   "cell_type": "markdown",
   "metadata": {},
   "source": [
    "### Find common channels in optimal channel combination (visual cue)"
   ]
  },
  {
   "cell_type": "code",
   "execution_count": 8,
   "metadata": {},
   "outputs": [],
   "source": [
    "vis_common_optimal_channels_dict = find_common_channels(vis_optimal_channel_combinations)"
   ]
  },
  {
   "cell_type": "code",
   "execution_count": 9,
   "metadata": {},
   "outputs": [],
   "source": [
    "vis_sorted_common_optimal_brain_areas = sort_common_brain_areas(vis_common_optimal_channels_dict)"
   ]
  },
  {
   "cell_type": "code",
   "execution_count": 11,
   "metadata": {},
   "outputs": [
    {
     "name": "stdout",
     "output_type": "stream",
     "text": [
      "angular gyrus R | Count: 1\n",
      "cingulate cortex (posterior) R | Count: 3\n",
      "cuneus R | Count: 1\n",
      "fusiform gyrus L | Count: 3\n",
      "fusiform gyrus R | Count: 1\n",
      "hippocampus (posterior) L | Count: 1\n",
      "insular cortex (posterior) R | Count: 1\n",
      "intraparietal sulcus R | Count: 1\n",
      "middle temporal gyrus L | Count: 1\n",
      "middle temporal gyrus R | Count: 3\n",
      "occipital gyrus (lateral) L | Count: 1\n",
      "occipital gyrus L | Count: 1\n",
      "parietal operculum L | Count: 1\n",
      "parietooccipital sulcus L | Count: 1\n",
      "superior temporal gyrus (planum temporale) L | Count: 3\n",
      "superior temporal gyrus (planum temporale) R | Count: 1\n",
      "supramarginal gyrus L | Count: 1\n",
      "temporal pole R | Count: 1\n"
     ]
    }
   ],
   "source": [
    "from collections import Counter\n",
    "counter = Counter(vis_sorted_common_optimal_brain_areas)\n",
    "\n",
    "for element, count in counter.items():\n",
    "    print(f'{element} | Count: {count}')"
   ]
  },
  {
   "cell_type": "markdown",
   "metadata": {},
   "source": [
    "### Find common channel si regular channel combination (visual cue)"
   ]
  },
  {
   "cell_type": "code",
   "execution_count": 12,
   "metadata": {},
   "outputs": [],
   "source": [
    "vis_common_reg_channels_dict = find_common_channels(vis_reg_channel_combinations)"
   ]
  },
  {
   "cell_type": "code",
   "execution_count": 13,
   "metadata": {},
   "outputs": [],
   "source": [
    "vis_sorted_common_reg_brain_areas = sort_common_brain_areas(vis_common_reg_channels_dict)"
   ]
  },
  {
   "cell_type": "code",
   "execution_count": 15,
   "metadata": {},
   "outputs": [
    {
     "name": "stdout",
     "output_type": "stream",
     "text": [
      "angular gyrus R | Count: 1\n",
      "cingulate cortex (posterior) R | Count: 6\n",
      "cuneus R | Count: 1\n",
      "entorhinal cortex L | Count: 1\n",
      "fusiform gyrus L | Count: 3\n",
      "fusiform gyrus R | Count: 1\n",
      "hippocampus (anterior) L | Count: 1\n",
      "hippocampus (anterior) R | Count: 1\n",
      "hippocampus (posterior) R | Count: 1\n",
      "inferior temporal sulcus R | Count: 1\n",
      "insular cortex (posterior) R | Count: 1\n",
      "intraparietal sulcus R | Count: 1\n",
      "lingula gyrus R | Count: 1\n",
      "middle temporal gyrus L | Count: 1\n",
      "middle temporal gyrus R | Count: 6\n",
      "occipital gyrus L | Count: 1\n",
      "occipital gyrus R | Count: 1\n",
      "parietal operculum L | Count: 3\n",
      "precuneus R | Count: 3\n",
      "superior temporal gyrus (planum temporale) L | Count: 1\n",
      "superior temporal gyrus (planum temporale) R | Count: 3\n",
      "superior temporal sulcus R | Count: 1\n",
      "supramarginal gyrus L | Count: 3\n",
      "temporal pole R | Count: 1\n"
     ]
    }
   ],
   "source": [
    "counter = Counter(vis_sorted_common_reg_brain_areas)\n",
    "\n",
    "for element, count in counter.items():\n",
    "    print(f'{element} | Count: {count}')"
   ]
  },
  {
   "cell_type": "code",
   "execution_count": null,
   "metadata": {},
   "outputs": [],
   "source": []
  }
 ],
 "metadata": {
  "kernelspec": {
   "display_name": "ncsl",
   "language": "python",
   "name": "python3"
  },
  "language_info": {
   "codemirror_mode": {
    "name": "ipython",
    "version": 3
   },
   "file_extension": ".py",
   "mimetype": "text/x-python",
   "name": "python",
   "nbconvert_exporter": "python",
   "pygments_lexer": "ipython3",
   "version": "3.11.3"
  },
  "orig_nbformat": 4
 },
 "nbformat": 4,
 "nbformat_minor": 2
}
