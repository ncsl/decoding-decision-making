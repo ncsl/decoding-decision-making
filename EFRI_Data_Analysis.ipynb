{
 "cells": [
  {
   "cell_type": "markdown",
   "metadata": {},
   "source": [
    "# Introduction\n",
    "\n",
    "This notebook trains a linear discriminant analysis model on preprocessed EEG data to predict behavioral data from neural features.\n",
    "\n",
    "An example of this can be found in the paper, \"Human stereoEEG recordings reveal network dynamics of decision-making in a rule-switching task\" by Wal et al.\n",
    "\n",
    "Behavioral data and preprocessed neural data from Subject 06 in the NCSL EFRI datasetwill be used in this notebook."
   ]
  },
  {
   "cell_type": "markdown",
   "metadata": {},
   "source": [
    "# Setup"
   ]
  },
  {
   "cell_type": "markdown",
   "metadata": {},
   "source": [
    "## Imports"
   ]
  },
  {
   "cell_type": "code",
   "execution_count": 1,
   "metadata": {},
   "outputs": [],
   "source": [
    "import h5py \n",
    "import mat73\n",
    "import numpy as np"
   ]
  },
  {
   "cell_type": "markdown",
   "metadata": {},
   "source": [
    "## Load File Paths"
   ]
  },
  {
   "cell_type": "code",
   "execution_count": 9,
   "metadata": {},
   "outputs": [],
   "source": [
    "# ncsl_share = '/run/user/1000/gvfs/smb-share:server=10.162.37.21,share=main'\n",
    "# data_path = f'Data/Subject06_snapshot_normalized.npy'\n",
    "subs = ['06']\n",
    "file_paths = {}\n",
    "\n",
    "for sub in subs:\n",
    "    # create a dictionary holding the file paths\n",
    "    ncsl_share = '/mnt/ncsl_share'\n",
    "    file_paths[sub] = {\n",
    "        'setup_path': ncsl_share + f'/Public/EFRI/1_formatted/SUBJECT{sub}/EFRI{sub}_WAR_SES1_Setup.mat',\n",
    "        'raw_path': ncsl_share + f'/Public/EFRI/1_formatted/SUBJECT{sub}/EFRI{sub}_WAR_SES1_Raw.mat',\n",
    "        'data_path': ncsl_share + f'/Daniel/Data/Trial_by_Chan_by_Freq_by_Time_Snapshots/Subject{sub}_snapshot_normalized.npy', # movement onset as event\n",
    "        # 'data_path' : ncsl_share + f'/Daniel/Data/Trial_by_Chan_by_Freq_by_Time_Snapshots/show-card_pre-2sec_post-4sec/Subject{sub}_snapshot_normalized.npy', # visual cue as event\n",
    "        'out_path_metrics': f'Metrics/Subject{sub}',\n",
    "        'out_path_plots': f'Plots/Subject{sub}'\n",
    "    }"
   ]
  },
  {
   "cell_type": "code",
   "execution_count": 10,
   "metadata": {},
   "outputs": [],
   "source": [
    "raw_file = h5py.File(file_paths['06']['raw_path'])\n",
    "setup_data = mat73.loadmat(file_paths['06']['setup_path'])\n",
    "\n",
    "out_path_plots = file_paths['06']['out_path_plots']\n",
    "out_path_metrics = file_paths['06']['out_path_metrics']"
   ]
  },
  {
   "cell_type": "code",
   "execution_count": 11,
   "metadata": {},
   "outputs": [
    {
     "data": {
      "text/plain": [
       "dict_keys(['elec_area', 'elec_ind', 'elec_name', 'filters', 'trial_times', 'trial_words'])"
      ]
     },
     "execution_count": 11,
     "metadata": {},
     "output_type": "execute_result"
    }
   ],
   "source": [
    "setup_data.keys()"
   ]
  },
  {
   "cell_type": "markdown",
   "metadata": {},
   "source": [
    "## Instantiate variables"
   ]
  },
  {
   "cell_type": "code",
   "execution_count": 12,
   "metadata": {},
   "outputs": [],
   "source": [
    "bets = setup_data['filters']['bets']\n",
    "\n",
    "good_trials = np.where(np.isnan(bets) == False)[0] # extract indices of trials without the 'nan'\n",
    "\n",
    "bets = bets[good_trials] # get the bet values for the good trials\n",
    "subject_cards = setup_data['filters']['card1'][good_trials] # get the subject's card values for the good trials"
   ]
  },
  {
   "cell_type": "code",
   "execution_count": 13,
   "metadata": {},
   "outputs": [],
   "source": [
    "elec_names = np.array(setup_data['elec_name'])\n",
    "elec_areas = np.array(setup_data['elec_area'])"
   ]
  },
  {
   "cell_type": "code",
   "execution_count": 14,
   "metadata": {},
   "outputs": [],
   "source": [
    "data = np.load(file_paths['06']['data_path'])\n",
    "y = np.asarray([(0 if bet == 5 else 1) for bet in bets]) # 0 = low bet ($5), 1 = high bet ($20)"
   ]
  },
  {
   "cell_type": "markdown",
   "metadata": {},
   "source": [
    "## Matplotlib Settings"
   ]
  },
  {
   "cell_type": "code",
   "execution_count": 15,
   "metadata": {},
   "outputs": [],
   "source": [
    "import matplotlib as mpl\n",
    "mpl.rcParams['axes.titlesize'] = 22\n",
    "mpl.rcParams['axes.labelsize'] = 18\n",
    "mpl.rcParams['xtick.labelsize'] = 18\n",
    "mpl.rcParams['ytick.labelsize'] = 18"
   ]
  },
  {
   "cell_type": "markdown",
   "metadata": {},
   "source": [
    "## Create Frequency Bands"
   ]
  },
  {
   "cell_type": "code",
   "execution_count": 9,
   "metadata": {},
   "outputs": [],
   "source": [
    "wavelet_freqs = np.logspace(np.log2(2),np.log2(150),num=63,base=2)\n",
    "\n",
    "frequency_band_indices ={\n",
    "    \"Delta\" : [i for i,freq in enumerate(wavelet_freqs) if freq >= 0.5 and freq < 4],\n",
    "    \"Theta\" : [i for i,freq in enumerate(wavelet_freqs) if freq >= 4 and freq < 8],\n",
    "    \"Alpha\" : [i for i,freq in enumerate(wavelet_freqs) if freq >= 8 and freq < 14],\n",
    "    \"Beta\" : [i for i,freq in enumerate(wavelet_freqs) if freq >= 14 and freq < 30],\n",
    "    \"Gamma\" : [i for i,freq in enumerate(wavelet_freqs) if freq >= 30]\n",
    "}"
   ]
  },
  {
   "cell_type": "code",
   "execution_count": 10,
   "metadata": {},
   "outputs": [],
   "source": [
    "f_band_data = np.zeros((data.shape[0], data.shape[1], 5, data.shape[3]))\n",
    "\n",
    "for i, key in enumerate(frequency_band_indices):\n",
    "    f_band_data[:,:,i,:] = data[:,:,frequency_band_indices[key],:].mean(2)"
   ]
  },
  {
   "cell_type": "markdown",
   "metadata": {},
   "source": [
    "# Model Training"
   ]
  },
  {
   "cell_type": "markdown",
   "metadata": {},
   "source": [
    "# Analysis"
   ]
  },
  {
   "cell_type": "code",
   "execution_count": 41,
   "metadata": {},
   "outputs": [],
   "source": [
    "def find_shared_brain_areas(brain_area_combinations):\n",
    "    flatten_list = lambda l: [item for sublist in l for item in sublist]\n",
    "    unique_brain_areas = np.unique(flatten_list(brain_area_combinations))\n",
    "\n",
    "    shared_brain_areas = []\n",
    "    for brain_area in unique_brain_areas:\n",
    "        i = 0\n",
    "        for combination in brain_area_combinations:\n",
    "            if brain_area in combination:\n",
    "                i += 1\n",
    "        if i > 1:\n",
    "            shared_brain_areas.append([brain_area, i])\n",
    "\n",
    "    shared_brain_areas.sort(key=lambda x: x[1], reverse=True)\n",
    "    \n",
    "    return shared_brain_areas"
   ]
  },
  {
   "cell_type": "markdown",
   "metadata": {},
   "source": [
    "### Find which brain regions that contribute to decision-making are shared among subjects (movement onset)"
   ]
  },
  {
   "cell_type": "code",
   "execution_count": 39,
   "metadata": {},
   "outputs": [],
   "source": [
    "channel_combinations_for_movement = []\n",
    "optimal_channel_combinations_for_movement = []\n",
    "\n",
    "subs = ['06','07','10','12','13','15','16','17','18','21']\n",
    "\n",
    "for sub in subs:\n",
    "    channel_combinations_for_movement.append(np.load(f'Metrics/Subject{sub}_optimal_time_window_channel_combination.npy'))\n",
    "    optimal_channel_combinations_for_movement.append(np.load(f'Metrics/Subject{sub}_optimal_time_window_optimal_channel_combination.npy'))"
   ]
  },
  {
   "cell_type": "code",
   "execution_count": 42,
   "metadata": {},
   "outputs": [
    {
     "data": {
      "text/plain": [
       "[['angular gyrus R', 3],\n",
       " ['fusiform gyrus L', 3],\n",
       " ['middle temporal gyrus L', 3],\n",
       " ['occipital gyrus L', 3],\n",
       " ['cingulate cortex (posterior) R', 2],\n",
       " ['inferior temporal gyrus L', 2],\n",
       " ['insular cortex (anterior) R', 2],\n",
       " ['middle temporal gyrus R', 2],\n",
       " ['parietal operculum R', 2],\n",
       " ['parietooccipital sulcus L', 2],\n",
       " ['superior temporal gyrus (planum temporale) L', 2],\n",
       " ['superior temporal gyrus (planum temporale) R', 2],\n",
       " ['superior temporal sulcus R', 2],\n",
       " ['supramarginal gyrus L', 2]]"
      ]
     },
     "execution_count": 42,
     "metadata": {},
     "output_type": "execute_result"
    }
   ],
   "source": [
    "find_shared_brain_areas(optimal_channel_combinations_for_movement)"
   ]
  },
  {
   "cell_type": "code",
   "execution_count": 43,
   "metadata": {},
   "outputs": [
    {
     "data": {
      "text/plain": [
       "[['middle temporal gyrus L', 5],\n",
       " ['angular gyrus R', 4],\n",
       " ['fusiform gyrus L', 4],\n",
       " ['cingulate cortex (posterior) R', 3],\n",
       " ['inferior frontal gyrus (pars orbitalis) R', 3],\n",
       " ['inferior temporal sulcus R', 3],\n",
       " ['middle temporal gyrus R', 3],\n",
       " ['superior temporal gyrus (planum temporale) R', 3],\n",
       " ['cuneus R', 2],\n",
       " ['fusiform gyrus R', 2],\n",
       " ['hippocampus (anterior) L', 2],\n",
       " ['hippocampus (anterior) R', 2],\n",
       " ['hippocampus (posterior) R', 2],\n",
       " ['inferior frontal gyrus (pars opercularis) R', 2],\n",
       " ['inferior temporal gyrus L', 2],\n",
       " ['inferior temporal gyrus R', 2],\n",
       " ['insular cortex (anterior) R', 2],\n",
       " ['insular cortex (posterior) R', 2],\n",
       " ['intraparietal sulcus R', 2],\n",
       " ['occipital gyrus L', 2],\n",
       " ['occipital gyrus R', 2],\n",
       " ['parietal operculum R', 2],\n",
       " ['parietooccipital sulcus L', 2],\n",
       " ['superior temporal gyrus (planum temporale) L', 2],\n",
       " ['superior temporal sulcus R', 2],\n",
       " ['supramarginal gyrus L', 2],\n",
       " ['supramarginal gyrus R', 2]]"
      ]
     },
     "execution_count": 43,
     "metadata": {},
     "output_type": "execute_result"
    }
   ],
   "source": [
    "find_shared_brain_areas(channel_combinations_for_movement)"
   ]
  },
  {
   "cell_type": "markdown",
   "metadata": {},
   "source": [
    "### Find which brain regions that contribute to decision-making are shared among subjects (visual cue)"
   ]
  },
  {
   "cell_type": "code",
   "execution_count": 44,
   "metadata": {},
   "outputs": [],
   "source": [
    "channel_combinations_for_vis_stim = []\n",
    "optimal_channel_combinations_for_vis_stim = []\n",
    "\n",
    "subs = ['06','07','10','12','13','15','16','17','18','21']\n",
    "\n",
    "for sub in subs:\n",
    "    channel_combinations_for_vis_stim.append(np.load(f'Metrics/Subject{sub}_vis_stim_optimal_time_window_channel_combination.npy'))\n",
    "    optimal_channel_combinations_for_vis_stim.append(np.load(f'Metrics/Subject{sub}_vis_stim_optimal_time_window_optimal_channel_combination.npy'))"
   ]
  },
  {
   "cell_type": "code",
   "execution_count": 45,
   "metadata": {},
   "outputs": [
    {
     "data": {
      "text/plain": [
       "[['cingulate cortex (posterior) R', 3],\n",
       " ['fusiform gyrus L', 3],\n",
       " ['middle temporal gyrus R', 3],\n",
       " ['superior temporal gyrus (planum temporale) L', 3],\n",
       " ['angular gyrus R', 2],\n",
       " ['cuneus R', 2],\n",
       " ['fusiform gyrus R', 2],\n",
       " ['hippocampus (posterior) L', 2],\n",
       " ['insular cortex (posterior) R', 2],\n",
       " ['intraparietal sulcus R', 2],\n",
       " ['middle temporal gyrus L', 2],\n",
       " ['occipital gyrus (lateral) L', 2],\n",
       " ['occipital gyrus L', 2],\n",
       " ['parietal operculum L', 2],\n",
       " ['parietooccipital sulcus L', 2],\n",
       " ['superior temporal gyrus (planum temporale) R', 2],\n",
       " ['supramarginal gyrus L', 2],\n",
       " ['temporal pole R', 2]]"
      ]
     },
     "execution_count": 45,
     "metadata": {},
     "output_type": "execute_result"
    }
   ],
   "source": [
    "find_shared_brain_areas(optimal_channel_combinations_for_vis_stim)"
   ]
  },
  {
   "cell_type": "code",
   "execution_count": 46,
   "metadata": {},
   "outputs": [
    {
     "data": {
      "text/plain": [
       "[['cingulate cortex (posterior) R', 4],\n",
       " ['middle temporal gyrus R', 4],\n",
       " ['fusiform gyrus L', 3],\n",
       " ['parietal operculum L', 3],\n",
       " ['precuneus R', 3],\n",
       " ['superior temporal gyrus (planum temporale) R', 3],\n",
       " ['supramarginal gyrus L', 3],\n",
       " ['angular gyrus R', 2],\n",
       " ['cuneus R', 2],\n",
       " ['entorhinal cortex L', 2],\n",
       " ['fusiform gyrus R', 2],\n",
       " ['hippocampus (anterior) L', 2],\n",
       " ['hippocampus (anterior) R', 2],\n",
       " ['hippocampus (posterior) R', 2],\n",
       " ['inferior temporal sulcus R', 2],\n",
       " ['insular cortex (posterior) R', 2],\n",
       " ['intraparietal sulcus R', 2],\n",
       " ['lingula gyrus R', 2],\n",
       " ['middle temporal gyrus L', 2],\n",
       " ['occipital gyrus L', 2],\n",
       " ['occipital gyrus R', 2],\n",
       " ['superior temporal gyrus (planum temporale) L', 2],\n",
       " ['superior temporal sulcus R', 2],\n",
       " ['temporal pole R', 2]]"
      ]
     },
     "execution_count": 46,
     "metadata": {},
     "output_type": "execute_result"
    }
   ],
   "source": [
    "find_shared_brain_areas(channel_combinations_for_vis_stim)"
   ]
  }
 ],
 "metadata": {
  "kernelspec": {
   "display_name": "ncsl",
   "language": "python",
   "name": "python3"
  },
  "language_info": {
   "codemirror_mode": {
    "name": "ipython",
    "version": 3
   },
   "file_extension": ".py",
   "mimetype": "text/x-python",
   "name": "python",
   "nbconvert_exporter": "python",
   "pygments_lexer": "ipython3",
   "version": "3.11.3"
  },
  "orig_nbformat": 4
 },
 "nbformat": 4,
 "nbformat_minor": 2
}
