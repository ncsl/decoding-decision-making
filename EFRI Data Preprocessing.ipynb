{
 "cells": [
  {
   "attachments": {},
   "cell_type": "markdown",
   "id": "e3d6f1d0",
   "metadata": {},
   "source": [
    "# Introduction\n",
    "\n",
    "In this Jupyter Notebook, I plan to implement the same data preprocessing and analysis techniques done in the paper \"Human stereoEEG recordings reveal network dynamics of decision-making in a rule-switching task\" by Marije ter Wal et al.\n",
    "\n",
    "Details of data preprocessing, artifact rejection, wavelet analysis, and classfiers can be found in the \"Methodology\" section of the paper."
   ]
  },
  {
   "attachments": {},
   "cell_type": "markdown",
   "id": "f31aef0b",
   "metadata": {},
   "source": [
    "## Imports"
   ]
  },
  {
   "cell_type": "code",
   "execution_count": 70,
   "id": "70659449",
   "metadata": {},
   "outputs": [],
   "source": [
    "import h5py \n",
    "import mat73\n",
    "import numpy as np\n",
    "import mne\n",
    "from matplotlib import pyplot as plt\n",
    "from scipy import signal, stats"
   ]
  },
  {
   "attachments": {},
   "cell_type": "markdown",
   "id": "3d20781c",
   "metadata": {},
   "source": [
    "## Data Paths"
   ]
  },
  {
   "cell_type": "code",
   "execution_count": 2,
   "id": "66e71a93",
   "metadata": {},
   "outputs": [],
   "source": [
    "# File paths for raw and setup files for subject #06\n",
    "setup_path = '/run/user/1000/gvfs/smb-share:server=10.162.37.21,share=main/Public/EFRI/1_formatted/SUBJECT06/EFRI06_WAR_SES1_Setup.mat'\n",
    "raw_path = '/run/user/1000/gvfs/smb-share:server=10.162.37.21,share=main/Public/EFRI/1_formatted/SUBJECT06/EFRI06_WAR_SES1_Raw.mat'"
   ]
  },
  {
   "attachments": {},
   "cell_type": "markdown",
   "id": "158e2366",
   "metadata": {},
   "source": [
    "## Load raw data using h5py library"
   ]
  },
  {
   "cell_type": "code",
   "execution_count": 3,
   "id": "e631e3e3",
   "metadata": {},
   "outputs": [],
   "source": [
    "# Load the raw matlab file, EFRI06_WAR_SES1_Raw.mat\n",
    "raw_file = h5py.File(raw_path)"
   ]
  },
  {
   "cell_type": "code",
   "execution_count": 4,
   "id": "acdeee64",
   "metadata": {},
   "outputs": [
    {
     "data": {
      "text/plain": [
       "<HDF5 file \"EFRI06_WAR_SES1_Raw.mat\" (mode r)>"
      ]
     },
     "execution_count": 4,
     "metadata": {},
     "output_type": "execute_result"
    }
   ],
   "source": [
    "raw_file"
   ]
  },
  {
   "cell_type": "code",
   "execution_count": 5,
   "id": "9ef14c5f",
   "metadata": {},
   "outputs": [
    {
     "name": "stdout",
     "output_type": "stream",
     "text": [
      "2000.0\n"
     ]
    }
   ],
   "source": [
    "# Access and print the sampling frequency \n",
    "Fs = raw_file['Fs'][0][0]\n",
    "print(Fs)"
   ]
  },
  {
   "cell_type": "code",
   "execution_count": 6,
   "id": "1575ca21",
   "metadata": {},
   "outputs": [],
   "source": [
    "# Load in EEG data\n",
    "lfp_data = raw_file['lfpdata']"
   ]
  },
  {
   "cell_type": "code",
   "execution_count": 7,
   "id": "2e1bccee",
   "metadata": {},
   "outputs": [
    {
     "data": {
      "text/plain": [
       "<HDF5 dataset \"lfpdata\": shape (133, 3934000), type \"<f8\">"
      ]
     },
     "execution_count": 7,
     "metadata": {},
     "output_type": "execute_result"
    }
   ],
   "source": [
    "lfp_data"
   ]
  },
  {
   "cell_type": "code",
   "execution_count": 74,
   "id": "47075936",
   "metadata": {},
   "outputs": [],
   "source": [
    "# Get a subset of time elements from the first channel\n",
    "ch0 = lfp_data[0,:10000]"
   ]
  },
  {
   "cell_type": "code",
   "execution_count": 9,
   "id": "c9b27155",
   "metadata": {},
   "outputs": [],
   "source": [
    "# Access the setup data\n",
    "setup_data = mat73.loadmat(setup_path)"
   ]
  },
  {
   "cell_type": "code",
   "execution_count": 10,
   "id": "b1ae5001",
   "metadata": {},
   "outputs": [
    {
     "data": {
      "text/plain": [
       "dict_keys(['elec_area', 'elec_ind', 'elec_name', 'filters', 'trial_times', 'trial_words'])"
      ]
     },
     "execution_count": 10,
     "metadata": {},
     "output_type": "execute_result"
    }
   ],
   "source": [
    "setup_data.keys()"
   ]
  },
  {
   "attachments": {},
   "cell_type": "markdown",
   "id": "d14295c4",
   "metadata": {},
   "source": [
    "## Create MNE data objects"
   ]
  },
  {
   "cell_type": "code",
   "execution_count": 11,
   "id": "c5c93082",
   "metadata": {},
   "outputs": [],
   "source": [
    "# Access the names of the EEG channels\n",
    "ch_names = setup_data['elec_name']"
   ]
  },
  {
   "cell_type": "code",
   "execution_count": 13,
   "id": "c83a48a9",
   "metadata": {},
   "outputs": [
    {
     "data": {
      "text/plain": [
       "\"B'10\""
      ]
     },
     "execution_count": 13,
     "metadata": {},
     "output_type": "execute_result"
    }
   ],
   "source": [
    "# Get the name for the first channel\n",
    "ch_names[0]"
   ]
  },
  {
   "cell_type": "code",
   "execution_count": 75,
   "id": "904e6ef0",
   "metadata": {},
   "outputs": [],
   "source": [
    "# Create an MNE Info data object\n",
    "info = mne.create_info([ch_names[0]], 2000.0)"
   ]
  },
  {
   "cell_type": "code",
   "execution_count": 76,
   "id": "bbfd025c",
   "metadata": {},
   "outputs": [
    {
     "name": "stdout",
     "output_type": "stream",
     "text": [
      "Creating RawArray with float64 data, n_channels=1, n_times=10000\n",
      "    Range : 0 ... 9999 =      0.000 ...     5.000 secs\n",
      "Ready.\n"
     ]
    }
   ],
   "source": [
    "# Create an MNE Raw Array object\n",
    "raw = mne.io.RawArray(ch0.reshape(1,-1), info)"
   ]
  },
  {
   "attachments": {},
   "cell_type": "markdown",
   "id": "891889f4",
   "metadata": {},
   "source": [
    "##  Preprocessing\n"
   ]
  },
  {
   "cell_type": "code",
   "execution_count": 124,
   "id": "d223ea73",
   "metadata": {},
   "outputs": [
    {
     "name": "stdout",
     "output_type": "stream",
     "text": [
      "No data channels found. The highpass and lowpass values in the measurement info will not be updated.\n",
      "Filtering raw data in 1 contiguous segment\n",
      "Setting up band-pass filter from 1.5 - 3e+02 Hz\n",
      "\n",
      "IIR filter parameters\n",
      "---------------------\n",
      "Butterworth bandpass zero-phase (two-pass forward and reverse) non-causal filter:\n",
      "- Filter order 16 (effective, after forward-backward)\n",
      "- Cutoffs at 1.50, 300.00 Hz: -6.02, -6.02 dB\n",
      "\n",
      "Filtering raw data in 1 contiguous segment\n",
      "Setting up band-stop filter from 59 - 61 Hz\n",
      "\n",
      "IIR filter parameters\n",
      "---------------------\n",
      "Butterworth bandstop zero-phase (two-pass forward and reverse) non-causal filter:\n",
      "- Filter order 16 (effective, after forward-backward)\n",
      "- Cutoffs at 59.35, 60.65 Hz: -6.02, -6.02 dB\n",
      "\n",
      "Filtering raw data in 1 contiguous segment\n",
      "Setting up band-stop filter from 1.2e+02 - 1.2e+02 Hz\n",
      "\n",
      "IIR filter parameters\n",
      "---------------------\n",
      "Butterworth bandstop zero-phase (two-pass forward and reverse) non-causal filter:\n",
      "- Filter order 16 (effective, after forward-backward)\n",
      "- Cutoffs at 119.20, 120.80 Hz: -6.02, -6.02 dB\n",
      "\n",
      "Filtering raw data in 1 contiguous segment\n",
      "Setting up band-stop filter from 1.8e+02 - 1.8e+02 Hz\n",
      "\n",
      "IIR filter parameters\n",
      "---------------------\n",
      "Butterworth bandstop zero-phase (two-pass forward and reverse) non-causal filter:\n",
      "- Filter order 16 (effective, after forward-backward)\n",
      "- Cutoffs at 179.05, 180.95 Hz: -6.02, -6.02 dB\n",
      "\n",
      "Filtering raw data in 1 contiguous segment\n",
      "Setting up band-stop filter from 2.4e+02 - 2.4e+02 Hz\n",
      "\n",
      "IIR filter parameters\n",
      "---------------------\n",
      "Butterworth bandstop zero-phase (two-pass forward and reverse) non-causal filter:\n",
      "- Filter order 16 (effective, after forward-backward)\n",
      "- Cutoffs at 238.90, 241.10 Hz: -6.02, -6.02 dB\n",
      "\n",
      "Filtering raw data in 1 contiguous segment\n",
      "Setting up band-stop filter from 3e+02 - 3e+02 Hz\n",
      "\n",
      "IIR filter parameters\n",
      "---------------------\n",
      "Butterworth bandstop zero-phase (two-pass forward and reverse) non-causal filter:\n",
      "- Filter order 16 (effective, after forward-backward)\n",
      "- Cutoffs at 298.75, 301.25 Hz: -6.02, -6.02 dB\n",
      "\n"
     ]
    }
   ],
   "source": [
    "# Filter Data Bandpass 1.5-300 Hz \n",
    "filt = raw.copy().filter(1.5,300,'all',method=\"iir\")\n",
    "\n",
    "# notch filter 60 Hz harmonics\n",
    "for notchfreq in [60,120,180,240,300]:\n",
    "    filt = filt.copy().notch_filter(notchfreq, 'all', method=\"iir\")\n",
    "\n",
    "# decimate to 600 Hz \n",
    "decFactor = int(Fs/600)\n",
    "filt = filt.get_data()[:,::decFactor]"
   ]
  },
  {
   "cell_type": "code",
   "execution_count": 125,
   "id": "cd29795d",
   "metadata": {},
   "outputs": [
    {
     "data": {
      "text/plain": [
       "array([[-9.39438713e-03, -1.50138990e+01, -2.77560977e+01, ...,\n",
       "         1.10905957e+01,  2.77916708e+01, -2.52458520e-01]])"
      ]
     },
     "execution_count": 125,
     "metadata": {},
     "output_type": "execute_result"
    }
   ],
   "source": [
    "filt"
   ]
  },
  {
   "cell_type": "code",
   "execution_count": 127,
   "id": "452cde4f",
   "metadata": {},
   "outputs": [],
   "source": [
    "# Wavelet covers frequencies between 5 and 152 Hz at 50 (semi)logarithmic intervals\n",
    "wavelet_freqs = np.logspace(np.log2(5),np.log2(152),num=50,base=2)\n",
    "lap_ref_data = np.zeros(filt.shape)"
   ]
  },
  {
   "cell_type": "code",
   "execution_count": 128,
   "id": "80207d05",
   "metadata": {},
   "outputs": [
    {
     "name": "stdout",
     "output_type": "stream",
     "text": [
      "0\n"
     ]
    },
    {
     "name": "stderr",
     "output_type": "stream",
     "text": [
      "/tmp/ipykernel_26287/1091223578.py:9: RuntimeWarning: divide by zero encountered in log\n",
      "  downsample = np.log(downsample) # natural log normalization to make frequencies more comparable\n"
     ]
    }
   ],
   "source": [
    "# Complex Morlet mother wavelet of 4 cycles wide\n",
    "#tfr_by_chan_list = []\n",
    "tfr_array = np.zeros((lap_ref_data.shape[0], len(wavelet_freqs), int(lap_ref_data.shape[1])))\n",
    "for ch in range(lap_ref_data.shape[0]):\n",
    "    tfr = mne.time_frequency.tfr_array_morlet(lap_ref_data[ch,:].reshape(1,1,-1),600,wavelet_freqs,n_cycles=4,output='power',n_jobs=1,)\n",
    "    #downsample = np.convolve(tfr[0,0,0,:], np.ones(50, ), mode='valid')[::25]/50. #Fs = 500; 1/Fs = .002 s; .1 sec/.002 sec = 50 samples for 100 ms. hence 50. then downsample every 25 because going from 500 Hz to 20 Hz final time resolution\n",
    "    downsample = signal.convolve2d(tfr[0,0,:,:], (1.0/50)* np.ones((1,50)), mode='same')[:,:]\n",
    "    #tfr_by_chan_list.append(downsample)\n",
    "    downsample = np.log(downsample) # natural log normalization to make frequencies more comparable\n",
    "    downsample = stats.zscore(downsample,axis=1)\n",
    "    tfr_array[ch,:,:] = downsample\n",
    "    print(ch)"
   ]
  }
 ],
 "metadata": {
  "kernelspec": {
   "display_name": "ncsl",
   "language": "python",
   "name": "python3"
  },
  "language_info": {
   "codemirror_mode": {
    "name": "ipython",
    "version": 3
   },
   "file_extension": ".py",
   "mimetype": "text/x-python",
   "name": "python",
   "nbconvert_exporter": "python",
   "pygments_lexer": "ipython3",
   "version": "3.11.3"
  }
 },
 "nbformat": 4,
 "nbformat_minor": 5
}
