{
 "cells": [
  {
   "cell_type": "markdown",
   "id": "8e42607c",
   "metadata": {},
   "source": [
    "# Setup"
   ]
  },
  {
   "attachments": {},
   "cell_type": "markdown",
   "id": "fa5926f9",
   "metadata": {},
   "source": [
    "## Imports"
   ]
  },
  {
   "cell_type": "code",
   "execution_count": 1,
   "id": "0043744a",
   "metadata": {},
   "outputs": [],
   "source": [
    "import h5py \n",
    "import mat73\n",
    "import numpy as np\n",
    "import pandas as pd\n",
    "import seaborn as sns\n",
    "import csv\n",
    "from matplotlib import pyplot as plt\n",
    "from sklearn.model_selection import RepeatedKFold, cross_validate\n",
    "from sklearn.discriminant_analysis import LinearDiscriminantAnalysis\n",
    "from scipy.stats import ttest_1samp, ttest_ind"
   ]
  },
  {
   "attachments": {},
   "cell_type": "markdown",
   "id": "e5fa72cf",
   "metadata": {},
   "source": [
    "## Load File Paths"
   ]
  },
  {
   "cell_type": "code",
   "execution_count": 2,
   "id": "2010fc45",
   "metadata": {},
   "outputs": [],
   "source": [
    "# ncsl_share = '/run/user/1000/gvfs/smb-share:server=10.162.37.21,share=main'\n",
    "# data_path = f'Data/Subject06_snapshot_normalized.npy'\n",
    "subs = ['06']\n",
    "file_paths = {}\n",
    "\n",
    "for sub in subs:\n",
    "    # create a dictionary holding the file paths\n",
    "    ncsl_share = '/mnt/ncsl_share'\n",
    "    file_paths[sub] = {\n",
    "        'setup_path': ncsl_share + f'/Public/EFRI/1_formatted/SUBJECT{sub}/EFRI{sub}_WAR_SES1_Setup.mat',\n",
    "        'raw_path': ncsl_share + f'/Public/EFRI/1_formatted/SUBJECT{sub}/EFRI{sub}_WAR_SES1_Raw.mat',\n",
    "        'data_path': ncsl_share + f'/Daniel/Data/Trial_by_Chan_by_Freq_by_Time_Snapshots/Subject{sub}_snapshot_normalized.npy', # movement onset as event\n",
    "        # 'data_path' : ncsl_share + f'/Daniel/Data/Trial_by_Chan_by_Freq_by_Time_Snapshots/show-card_pre-2sec_post-4sec/Subject{sub}_snapshot_normalized.npy', # visual cue as event\n",
    "        'out_path_metrics': f'Metrics/Subject{sub}',\n",
    "        'out_path_plots': f'Plots/Subject{sub}'\n",
    "    }"
   ]
  },
  {
   "cell_type": "code",
   "execution_count": 3,
   "id": "3f5fd36d",
   "metadata": {},
   "outputs": [],
   "source": [
    "raw_file = h5py.File(file_paths['06']['raw_path'])\n",
    "setup_data = mat73.loadmat(file_paths['06']['setup_path'])\n",
    "\n",
    "out_path_plots = file_paths['06']['out_path_plots']\n",
    "out_path_metrics = file_paths['06']['out_path_metrics']"
   ]
  },
  {
   "cell_type": "code",
   "execution_count": 4,
   "id": "8f36eceb",
   "metadata": {},
   "outputs": [
    {
     "data": {
      "text/plain": [
       "dict_keys(['elec_area', 'elec_ind', 'elec_name', 'filters', 'trial_times', 'trial_words'])"
      ]
     },
     "execution_count": 4,
     "metadata": {},
     "output_type": "execute_result"
    }
   ],
   "source": [
    "setup_data.keys()"
   ]
  },
  {
   "attachments": {},
   "cell_type": "markdown",
   "id": "43ba6ff0",
   "metadata": {},
   "source": [
    "## Instantiate variables"
   ]
  },
  {
   "cell_type": "code",
   "execution_count": 5,
   "id": "530612d4",
   "metadata": {},
   "outputs": [],
   "source": [
    "bets = setup_data['filters']['bets']\n",
    "\n",
    "good_trials = np.where(np.isnan(bets) == False)[0] # extract indices of trials without the 'nan'\n",
    "\n",
    "bets = bets[good_trials] # get the bet values for the good trials\n",
    "subject_cards = setup_data['filters']['card1'][good_trials] # get the subject's card values for the good trials"
   ]
  },
  {
   "cell_type": "code",
   "execution_count": 6,
   "id": "cd25babb",
   "metadata": {},
   "outputs": [],
   "source": [
    "elec_names = np.array(setup_data['elec_name'])\n",
    "elec_areas = np.array(setup_data['elec_area'])"
   ]
  },
  {
   "cell_type": "code",
   "execution_count": 7,
   "id": "ed8d5dfb",
   "metadata": {},
   "outputs": [],
   "source": [
    "data = np.load(file_paths['06']['data_path'])\n",
    "y = np.asarray([(0 if bet == 5 else 1) for bet in bets]) # 0 = low bet ($5), 1 = high bet ($20)"
   ]
  },
  {
   "cell_type": "markdown",
   "id": "2f423537",
   "metadata": {},
   "source": [
    "## Matplotlib Settings"
   ]
  },
  {
   "cell_type": "code",
   "execution_count": 8,
   "id": "737cec51",
   "metadata": {},
   "outputs": [],
   "source": [
    "import matplotlib as mpl\n",
    "mpl.rcParams['axes.titlesize'] = 22\n",
    "mpl.rcParams['axes.labelsize'] = 18\n",
    "mpl.rcParams['xtick.labelsize'] = 18\n",
    "mpl.rcParams['ytick.labelsize'] = 18"
   ]
  },
  {
   "attachments": {},
   "cell_type": "markdown",
   "id": "ca8b194d",
   "metadata": {},
   "source": [
    "## Create Frequency Bands"
   ]
  },
  {
   "cell_type": "code",
   "execution_count": 9,
   "id": "54340c22",
   "metadata": {},
   "outputs": [],
   "source": [
    "wavelet_freqs = np.logspace(np.log2(2),np.log2(150),num=63,base=2)\n",
    "\n",
    "frequency_band_indices ={\n",
    "    \"Delta\" : [i for i,freq in enumerate(wavelet_freqs) if freq >= 0.5 and freq < 4],\n",
    "    \"Theta\" : [i for i,freq in enumerate(wavelet_freqs) if freq >= 4 and freq < 8],\n",
    "    \"Alpha\" : [i for i,freq in enumerate(wavelet_freqs) if freq >= 8 and freq < 14],\n",
    "    \"Beta\" : [i for i,freq in enumerate(wavelet_freqs) if freq >= 14 and freq < 30],\n",
    "    \"Gamma\" : [i for i,freq in enumerate(wavelet_freqs) if freq >= 30]\n",
    "}"
   ]
  },
  {
   "cell_type": "code",
   "execution_count": 10,
   "id": "9bc2f496",
   "metadata": {},
   "outputs": [],
   "source": [
    "f_band_data = np.zeros((data.shape[0], data.shape[1], 5, data.shape[3]))\n",
    "\n",
    "for i, key in enumerate(frequency_band_indices):\n",
    "    f_band_data[:,:,i,:] = data[:,:,frequency_band_indices[key],:].mean(2)"
   ]
  },
  {
   "cell_type": "markdown",
   "id": "b764b5b5",
   "metadata": {},
   "source": [
    "# Classes"
   ]
  },
  {
   "attachments": {},
   "cell_type": "markdown",
   "id": "de898049",
   "metadata": {},
   "source": [
    "# Model Training\n",
    "\n",
    "Using the power per wavelet scale for a particular channel and timepoint as a feature. "
   ]
  },
  {
   "attachments": {},
   "cell_type": "markdown",
   "id": "eb630541",
   "metadata": {},
   "source": [
    "# Multiprocessing"
   ]
  },
  {
   "cell_type": "code",
   "execution_count": 49,
   "id": "86d80f3c",
   "metadata": {},
   "outputs": [],
   "source": [
    "def get_shuffled_t_stats(data, y, setup_data,  time_resolution, threshold, ref_estimator):\n",
    "    shuffled_lda = ShuffledLDA(setup_data)\n",
    "    shuffled_lda.train_per_channel_and_timestep(data, y, setup_data = setup_data, time_resolution=time_resolution)\n",
    "    return shuffled_lda.compute_t_stat_clusters(ref_estimator, threshold)"
   ]
  },
  {
   "cell_type": "code",
   "execution_count": 50,
   "id": "5388406b",
   "metadata": {},
   "outputs": [
    {
     "name": "stdout",
     "output_type": "stream",
     "text": [
      "Shuffling!\n",
      "Shuffling!\n",
      "Shuffling!\n",
      "Shuffling!\n",
      "Shuffling!\n",
      "Shuffling!\n",
      "Shuffling!\n",
      "Shuffling!\n",
      "Shuffling!\n",
      "Shuffling!\n",
      "Shuffling!\n",
      "Shuffling!\n",
      "Shuffling!\n",
      "Shuffling!\n",
      "Shuffling!\n",
      "Shuffling!\n",
      "Shuffling!\n",
      "Shuffling!\n",
      "Shuffling!\n",
      "Shuffling!\n",
      "Shuffling!\n",
      "Shuffling!\n",
      "Shuffling!\n",
      "Shuffling!\n",
      "Shuffling!\n",
      "Shuffling!\n",
      "Shuffling!\n",
      "Shuffling!\n",
      "Shuffling!\n",
      "Shuffling!\n",
      "Shuffling!\n",
      "Shuffling!\n",
      "Shuffling!\n",
      "Shuffling!\n",
      "Shuffling!\n",
      "Shuffling!\n",
      "Shuffling!\n",
      "Shuffling!\n",
      "Shuffling!\n",
      "Shuffling!\n",
      "Shuffling!\n",
      "Shuffling!\n",
      "Shuffling!\n",
      "Shuffling!\n",
      "Shuffling!\n",
      "Shuffling!\n",
      "Shuffling!\n",
      "Shuffling!\n",
      "Shuffling!\n",
      "Shuffling!\n",
      "Shuffling!\n",
      "Shuffling!\n",
      "Shuffling!\n",
      "Shuffling!\n",
      "Shuffling!\n",
      "Shuffling!\n",
      "Shuffling!\n",
      "Shuffling!\n",
      "Shuffling!\n",
      "Shuffling!\n",
      "Shuffling!\n",
      "Shuffling!\n",
      "Shuffling!\n",
      "Shuffling!\n",
      "Shuffling!\n",
      "Shuffling!\n",
      "Shuffling!\n",
      "Shuffling!\n",
      "Shuffling!\n",
      "Shuffling!\n",
      "Shuffling!\n",
      "Shuffling!\n",
      "Shuffling!\n",
      "Shuffling!\n",
      "Shuffling!\n",
      "Shuffling!\n",
      "Shuffling!\n",
      "Shuffling!\n",
      "Shuffling!\n",
      "Shuffling!\n",
      "Shuffling!\n",
      "Shuffling!\n",
      "Shuffling!\n",
      "Shuffling!\n",
      "Shuffling!\n",
      "Shuffling!\n",
      "Shuffling!\n",
      "Shuffling!\n",
      "Shuffling!\n",
      "Shuffling!\n",
      "Shuffling!\n",
      "Shuffling!\n",
      "Shuffling!\n",
      "Shuffling!\n",
      "Shuffling!\n",
      "Shuffling!\n",
      "Shuffling!\n",
      "Shuffling!\n",
      "Shuffling!\n",
      "Shuffling!\n"
     ]
    }
   ],
   "source": [
    "from multiprocessing import Pool\n",
    "\n",
    "n_processes = 20\n",
    "\n",
    "if __name__ == '__main__':\n",
    "    with Pool(n_processes) as p:\n",
    "        results = p.starmap(get_shuffled_t_stats, [(f_band_data, y, setup_data, 5, 12, lda)] * 100)\n",
    "        p.close()"
   ]
  },
  {
   "attachments": {},
   "cell_type": "markdown",
   "id": "56803640",
   "metadata": {},
   "source": [
    "# Visualization of Model Performance"
   ]
  },
  {
   "cell_type": "markdown",
   "id": "6bd387a8",
   "metadata": {},
   "source": [
    "# Extraneous Code"
   ]
  }
 ],
 "metadata": {
  "kernelspec": {
   "display_name": "Python 3 (ipykernel)",
   "language": "python",
   "name": "python3"
  },
  "language_info": {
   "codemirror_mode": {
    "name": "ipython",
    "version": 3
   },
   "file_extension": ".py",
   "mimetype": "text/x-python",
   "name": "python",
   "nbconvert_exporter": "python",
   "pygments_lexer": "ipython3",
   "version": "3.11.3"
  }
 },
 "nbformat": 4,
 "nbformat_minor": 5
}
