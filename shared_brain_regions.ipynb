{
 "cells": [
  {
   "cell_type": "markdown",
   "metadata": {},
   "source": [
    "# Finding Shared Brain Regions\n",
    "\n",
    "This notebook finds the brain regions in the optimal channel combination that are shared amongst at least 2 subjects. "
   ]
  },
  {
   "cell_type": "code",
   "execution_count": 4,
   "metadata": {},
   "outputs": [],
   "source": [
    "import numpy as np\n",
    "import mat73"
   ]
  },
  {
   "cell_type": "code",
   "execution_count": 5,
   "metadata": {},
   "outputs": [],
   "source": [
    "def find_shared_brain_areas(brain_area_combinations):\n",
    "    flatten_list = lambda l: [item for sublist in l for item in sublist]\n",
    "    unique_brain_areas = np.unique(flatten_list(brain_area_combinations))\n",
    "\n",
    "    shared_brain_areas = []\n",
    "    for brain_area in unique_brain_areas:\n",
    "        i = 0\n",
    "        for combination in brain_area_combinations:\n",
    "            if brain_area in combination:\n",
    "                i += 1\n",
    "        if i > 1:\n",
    "            shared_brain_areas.append([brain_area, i])\n",
    "\n",
    "    shared_brain_areas.sort(key=lambda x: x[1], reverse=True)\n",
    "    \n",
    "    return shared_brain_areas"
   ]
  },
  {
   "cell_type": "code",
   "execution_count": 13,
   "metadata": {},
   "outputs": [
    {
     "name": "stdout",
     "output_type": "stream",
     "text": [
      "Subject 07 has intraparietal sulcus R\n",
      "Subject 15 has intraparietal sulcus R\n",
      "Subject 16 has intraparietal sulcus R\n"
     ]
    }
   ],
   "source": [
    "optimal_channel_combinations = []\n",
    "\n",
    "brain_areas_of_interest = {'angular gyrus R':0,\n",
    "                            'cingulate cortex (posterior) R':0, \n",
    "                           'cuneus R':0, \n",
    "                           'fusiform gyrus L':0,\n",
    "                           'hippocampus (anterior) L':0,\n",
    "                           'inferior frontal gyrus (pars triangularis) R':0,\n",
    "                           'insular cortex (anterior) R':0, \n",
    "                           'intraparietal sulcus R':0,\n",
    "                           'middle temporal gyrus L':0, \n",
    "                           'middle temporal gyrus R':0,\n",
    "                           'middle frontal gyrus L':0,\n",
    "                           'occipital gyrus L':0, \n",
    "                           'occipital gyrus R':0, \n",
    "                           'parietal operculum L':0,\n",
    "                           'superior temporal gyrus (planum temporale) L':0,\n",
    "                           'superior temporal sulcus R':0, \n",
    "                           'supramarginal gyrus L':0,\n",
    "                           'supramarginal gyrus R':0}\n",
    "\n",
    "subs = ['06','07','10','12','13','15','16','17','18','21']\n",
    "\n",
    "for sub in subs:\n",
    "    ncsl_share = '/mnt/ncsl_share'\n",
    "    setup_path = ncsl_share + f'/Public/EFRI/1_formatted/SUBJECT{sub}/EFRI{sub}_WAR_SES1_Setup.mat'\n",
    "    setup_data = mat73.loadmat(setup_path)\n",
    "\n",
    "    elec_areas = np.array(setup_data['elec_area'])\n",
    "\n",
    "    for area in brain_areas_of_interest.keys():\n",
    "        if area in elec_areas:\n",
    "            brain_areas_of_interest[area] += 1\n",
    "\n",
    "    if 'intraparietal sulcus R' in elec_areas:\n",
    "        print(f'Subject {sub} has intraparietal sulcus R')\n",
    "\n",
    "    optimal_channel_combinations.append(np.load(f'Metrics/Subject{sub}_logistic_visual_card_optimal_channel_combination_10.npy'))"
   ]
  },
  {
   "cell_type": "code",
   "execution_count": 14,
   "metadata": {},
   "outputs": [
    {
     "data": {
      "text/plain": [
       "[['middle temporal gyrus L', 3],\n",
       " ['middle temporal gyrus R', 3],\n",
       " ['superior temporal gyrus (planum temporale) L', 3],\n",
       " ['cingulate cortex (posterior) L', 2],\n",
       " ['intraparietal sulcus R', 2],\n",
       " ['occipital gyrus R', 2],\n",
       " ['parietal operculum L', 2],\n",
       " ['parietooccipital sulcus R', 2],\n",
       " ['superior temporal gyrus (planum temporale) R', 2],\n",
       " ['supramarginal gyrus L', 2]]"
      ]
     },
     "execution_count": 14,
     "metadata": {},
     "output_type": "execute_result"
    }
   ],
   "source": [
    "# Logistic Regression\n",
    "find_shared_brain_areas(optimal_channel_combinations)"
   ]
  },
  {
   "cell_type": "code",
   "execution_count": 13,
   "metadata": {},
   "outputs": [
    {
     "data": {
      "text/plain": [
       "[['fusiform gyrus L', 3],\n",
       " ['cingulate cortex (posterior) R', 2],\n",
       " ['hippocampus (anterior) L', 2],\n",
       " ['insular cortex (anterior) R', 2],\n",
       " ['middle temporal gyrus L', 2],\n",
       " ['middle temporal gyrus R', 2],\n",
       " ['occipital gyrus L', 2],\n",
       " ['superior temporal sulcus R', 2],\n",
       " ['supramarginal gyrus L', 2],\n",
       " ['supramarginal gyrus R', 2]]"
      ]
     },
     "execution_count": 13,
     "metadata": {},
     "output_type": "execute_result"
    }
   ],
   "source": [
    "# LDA\n",
    "find_shared_brain_areas(optimal_channel_combinations)"
   ]
  },
  {
   "cell_type": "code",
   "execution_count": 10,
   "metadata": {},
   "outputs": [
    {
     "data": {
      "text/plain": [
       "{'angular gyrus R': 5,\n",
       " 'cingulate cortex (posterior) R': 6,\n",
       " 'cuneus R': 2,\n",
       " 'fusiform gyrus L': 5,\n",
       " 'hippocampus (anterior) L': 5,\n",
       " 'inferior frontal gyrus (pars triangularis) R': 2,\n",
       " 'insular cortex (anterior) R': 2,\n",
       " 'intraparietal sulcus R': 3,\n",
       " 'middle temporal gyrus L': 6,\n",
       " 'middle temporal gyrus R': 5,\n",
       " 'occipital gyrus L': 3,\n",
       " 'occipital gyrus R': 3,\n",
       " 'parietal operculum L': 3,\n",
       " 'superior temporal gyrus (planum temporale) L': 4,\n",
       " 'superior temporal sulcus R': 4,\n",
       " 'supramarginal gyrus L': 5,\n",
       " 'supramarginal gyrus R': 3}"
      ]
     },
     "execution_count": 10,
     "metadata": {},
     "output_type": "execute_result"
    }
   ],
   "source": [
    "brain_areas_of_interest"
   ]
  },
  {
   "cell_type": "code",
   "execution_count": null,
   "metadata": {},
   "outputs": [],
   "source": []
  }
 ],
 "metadata": {
  "kernelspec": {
   "display_name": "ncsl",
   "language": "python",
   "name": "python3"
  },
  "language_info": {
   "codemirror_mode": {
    "name": "ipython",
    "version": 3
   },
   "file_extension": ".py",
   "mimetype": "text/x-python",
   "name": "python",
   "nbconvert_exporter": "python",
   "pygments_lexer": "ipython3",
   "version": "3.11.3"
  },
  "orig_nbformat": 4
 },
 "nbformat": 4,
 "nbformat_minor": 2
}
